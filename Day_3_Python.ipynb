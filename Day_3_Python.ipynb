{
  "nbformat": 4,
  "nbformat_minor": 0,
  "metadata": {
    "colab": {
      "provenance": [],
      "authorship_tag": "ABX9TyMSym2+3yloi0gfTK9r6/xd",
      "include_colab_link": true
    },
    "kernelspec": {
      "name": "python3",
      "display_name": "Python 3"
    },
    "language_info": {
      "name": "python"
    }
  },
  "cells": [
    {
      "cell_type": "markdown",
      "metadata": {
        "id": "view-in-github",
        "colab_type": "text"
      },
      "source": [
        "<a href=\"https://colab.research.google.com/github/Deepak-Datapro/Generative-AI-Course/blob/main/Day3_Python.ipynb\" target=\"_parent\"><img src=\"https://colab.research.google.com/assets/colab-badge.svg\" alt=\"Open In Colab\"/></a>"
      ]
    },
    {
      "cell_type": "markdown",
      "source": [
        "# **Strings**"
      ],
      "metadata": {
        "id": "RvV6MVzuhoN9"
      }
    },
    {
      "cell_type": "markdown",
      "source": [
        "* Strings are used in Python to record text information, such as names. It could either be a word, a phrase, a sentence, a paragraph or an entire encyclopedia. Strings in Python are actually a *sequence*, which     basically means Python keeps track of every element in the string as a sequence. For example, Python understands the string \"joker' to be a sequence of letters in a specific order. This means we will be able to use indexing to grab particular letters (like the first letter, or the last letter).\n",
        "\n",
        "\n",
        "* This idea of a sequence is an important one in Python and we will touch upon it later on in the future."
      ],
      "metadata": {
        "id": "XrR2rjb_iw_y"
      }
    },
    {
      "cell_type": "code",
      "execution_count": null,
      "metadata": {
        "id": "596r5M5DfhiA"
      },
      "outputs": [],
      "source": [
        "string_1='Python'"
      ]
    },
    {
      "cell_type": "code",
      "source": [
        "string_1"
      ],
      "metadata": {
        "colab": {
          "base_uri": "https://localhost:8080/",
          "height": 35
        },
        "id": "MCU1e4RdjXsE",
        "outputId": "8da1d60f-fb21-4bed-89c3-dc4b0bbdd8e8"
      },
      "execution_count": null,
      "outputs": [
        {
          "output_type": "execute_result",
          "data": {
            "text/plain": [
              "'Python'"
            ],
            "application/vnd.google.colaboratory.intrinsic+json": {
              "type": "string"
            }
          },
          "metadata": {},
          "execution_count": 2
        }
      ]
    },
    {
      "cell_type": "code",
      "source": [
        "string_2=\"Spyder\""
      ],
      "metadata": {
        "id": "YB0A8_xtjbhb"
      },
      "execution_count": null,
      "outputs": []
    },
    {
      "cell_type": "code",
      "source": [
        "string_2"
      ],
      "metadata": {
        "colab": {
          "base_uri": "https://localhost:8080/",
          "height": 35
        },
        "id": "WkRXg3Sdjgsy",
        "outputId": "624e44f6-3ad1-4cf2-b125-7086d984bd91"
      },
      "execution_count": null,
      "outputs": [
        {
          "output_type": "execute_result",
          "data": {
            "text/plain": [
              "'Spyder'"
            ],
            "application/vnd.google.colaboratory.intrinsic+json": {
              "type": "string"
            }
          },
          "metadata": {},
          "execution_count": 4
        }
      ]
    },
    {
      "cell_type": "code",
      "source": [
        "phrase = \"Machine learning models are used to extract insights from data.\"\n"
      ],
      "metadata": {
        "id": "HMaTjSFmjiUS"
      },
      "execution_count": null,
      "outputs": []
    },
    {
      "cell_type": "code",
      "source": [
        "phrase"
      ],
      "metadata": {
        "colab": {
          "base_uri": "https://localhost:8080/",
          "height": 35
        },
        "id": "axYiikSCj-nS",
        "outputId": "cbd41187-bf7f-4a3f-c32e-cc18c4f9f83d"
      },
      "execution_count": null,
      "outputs": [
        {
          "output_type": "execute_result",
          "data": {
            "text/plain": [
              "'Machine learning models are used to extract insights from data.'"
            ],
            "application/vnd.google.colaboratory.intrinsic+json": {
              "type": "string"
            }
          },
          "metadata": {},
          "execution_count": 6
        }
      ]
    },
    {
      "cell_type": "code",
      "source": [
        "paragraph = \"\"\"\n",
        "Machine learning is a subset of artificial intelligence (AI) that enables computers to learn from data and make predictions.\n",
        "It is a powerful tool for data analysis and is widely used in various fields such as healthcare, finance, and marketing.\n",
        "The process of machine learning involves feeding large amounts of data into algorithms and using statistical methods to identify patterns and make predictions.\n",
        "\"\"\"\n"
      ],
      "metadata": {
        "id": "2YE-TbF9j_z8"
      },
      "execution_count": null,
      "outputs": []
    },
    {
      "cell_type": "code",
      "source": [
        "paragraph"
      ],
      "metadata": {
        "colab": {
          "base_uri": "https://localhost:8080/",
          "height": 70
        },
        "id": "HDa7GM9TkEXr",
        "outputId": "0e7aaf65-e112-4076-8005-cf80b6c52a44"
      },
      "execution_count": null,
      "outputs": [
        {
          "output_type": "execute_result",
          "data": {
            "text/plain": [
              "'\\nMachine learning is a subset of artificial intelligence (AI) that enables computers to learn from data and make predictions. \\nIt is a powerful tool for data analysis and is widely used in various fields such as healthcare, finance, and marketing. \\nThe process of machine learning involves feeding large amounts of data into algorithms and using statistical methods to identify patterns and make predictions.\\n'"
            ],
            "application/vnd.google.colaboratory.intrinsic+json": {
              "type": "string"
            }
          },
          "metadata": {},
          "execution_count": 8
        }
      ]
    },
    {
      "cell_type": "markdown",
      "source": [
        "# When to use 'Single quotes' and when to use \"Double quotes\""
      ],
      "metadata": {
        "id": "W5m_xUQPkeDk"
      }
    },
    {
      "cell_type": "code",
      "source": [
        "phrase_1 = 'The effectiveness of machine learning models depends on the quality of the statistical analysis.'"
      ],
      "metadata": {
        "id": "lpMFRu7GkFa8"
      },
      "execution_count": null,
      "outputs": []
    },
    {
      "cell_type": "code",
      "source": [
        "phrase_2 = \"The effectiveness of machine learning models depends on the quality of the statistical analysis.\""
      ],
      "metadata": {
        "id": "oSEE5AGqlcdl"
      },
      "execution_count": null,
      "outputs": []
    },
    {
      "cell_type": "code",
      "source": [
        "phrase_1"
      ],
      "metadata": {
        "colab": {
          "base_uri": "https://localhost:8080/",
          "height": 35
        },
        "id": "fyz3RioClf38",
        "outputId": "650c7933-0c17-4ba4-e004-9ac3a48bca0e"
      },
      "execution_count": null,
      "outputs": [
        {
          "output_type": "execute_result",
          "data": {
            "text/plain": [
              "'The effectiveness of machine learning models depends on the quality of the statistical analysis.'"
            ],
            "application/vnd.google.colaboratory.intrinsic+json": {
              "type": "string"
            }
          },
          "metadata": {},
          "execution_count": 50
        }
      ]
    },
    {
      "cell_type": "code",
      "source": [
        "phrase_2"
      ],
      "metadata": {
        "colab": {
          "base_uri": "https://localhost:8080/",
          "height": 35
        },
        "id": "du8bJxcrlhEz",
        "outputId": "f90a726c-b2d6-487e-ec71-9192c262de51"
      },
      "execution_count": null,
      "outputs": [
        {
          "output_type": "execute_result",
          "data": {
            "text/plain": [
              "'The effectiveness of machine learning models depends on the quality of the statistical analysis.'"
            ],
            "application/vnd.google.colaboratory.intrinsic+json": {
              "type": "string"
            }
          },
          "metadata": {},
          "execution_count": 51
        }
      ]
    },
    {
      "cell_type": "code",
      "source": [
        "phrase_3=\"It's not the data you have, it's what you do with it that counts.\""
      ],
      "metadata": {
        "id": "-DtNxpjGliEE"
      },
      "execution_count": null,
      "outputs": []
    },
    {
      "cell_type": "code",
      "source": [
        "phrase_3"
      ],
      "metadata": {
        "colab": {
          "base_uri": "https://localhost:8080/",
          "height": 35
        },
        "id": "qRhLDoYFlzyq",
        "outputId": "d45a1419-2f5f-4b1c-df1c-bb8092661ca2"
      },
      "execution_count": null,
      "outputs": [
        {
          "output_type": "execute_result",
          "data": {
            "text/plain": [
              "\"It's not the data you have, it's what you do with it that counts.\""
            ],
            "application/vnd.google.colaboratory.intrinsic+json": {
              "type": "string"
            }
          },
          "metadata": {},
          "execution_count": 15
        }
      ]
    },
    {
      "cell_type": "code",
      "source": [
        "phrase_4='It's not the data you have, it's what you do with it that counts.'"
      ],
      "metadata": {
        "colab": {
          "base_uri": "https://localhost:8080/",
          "height": 106
        },
        "id": "08zyjx2xl1Nj",
        "outputId": "cdc50d07-2c9f-43f6-9c8c-463ce3d2ff26"
      },
      "execution_count": null,
      "outputs": [
        {
          "output_type": "error",
          "ename": "SyntaxError",
          "evalue": "invalid syntax (<ipython-input-13-c7c567139189>, line 1)",
          "traceback": [
            "\u001b[0;36m  File \u001b[0;32m\"<ipython-input-13-c7c567139189>\"\u001b[0;36m, line \u001b[0;32m1\u001b[0m\n\u001b[0;31m    phrase_4='It's not the data you have, it's what you do with it that counts.'\u001b[0m\n\u001b[0m                 ^\u001b[0m\n\u001b[0;31mSyntaxError\u001b[0m\u001b[0;31m:\u001b[0m invalid syntax\n"
          ]
        }
      ]
    },
    {
      "cell_type": "markdown",
      "source": [
        "**'It'** is a valid syntax\n",
        "\n",
        "**s not the data you have, it** is not defined in any quotes so we get an syntax error because the python gets confused."
      ],
      "metadata": {
        "id": "B-IKUL2qmlrD"
      }
    },
    {
      "cell_type": "code",
      "source": [
        "phrase_5=\"This is in \"double Quotes\".\""
      ],
      "metadata": {
        "colab": {
          "base_uri": "https://localhost:8080/",
          "height": 106
        },
        "id": "c8yN60-pl6i0",
        "outputId": "cc8cc9cb-dc61-49c9-f841-d1cc3fdafe17"
      },
      "execution_count": null,
      "outputs": [
        {
          "output_type": "error",
          "ename": "SyntaxError",
          "evalue": "invalid syntax (<ipython-input-16-bef6a857c87a>, line 1)",
          "traceback": [
            "\u001b[0;36m  File \u001b[0;32m\"<ipython-input-16-bef6a857c87a>\"\u001b[0;36m, line \u001b[0;32m1\u001b[0m\n\u001b[0;31m    phrase_5=\"This is in \"double Quotes\".\"\u001b[0m\n\u001b[0m                          ^\u001b[0m\n\u001b[0;31mSyntaxError\u001b[0m\u001b[0;31m:\u001b[0m invalid syntax\n"
          ]
        }
      ]
    },
    {
      "cell_type": "code",
      "source": [
        "phrase_6='This is in \"double Quotes\".'"
      ],
      "metadata": {
        "id": "noAJxJMrhqQE"
      },
      "execution_count": null,
      "outputs": []
    },
    {
      "cell_type": "code",
      "source": [
        "phrase_6"
      ],
      "metadata": {
        "colab": {
          "base_uri": "https://localhost:8080/",
          "height": 35
        },
        "id": "LWXWl2kBhu8b",
        "outputId": "fa28d0cc-1c13-4808-e747-9cc6cbb7f74b"
      },
      "execution_count": null,
      "outputs": [
        {
          "output_type": "execute_result",
          "data": {
            "text/plain": [
              "'This is in \"double Quotes\".'"
            ],
            "application/vnd.google.colaboratory.intrinsic+json": {
              "type": "string"
            }
          },
          "metadata": {},
          "execution_count": 18
        }
      ]
    },
    {
      "cell_type": "markdown",
      "source": [
        "# Cleaning Data"
      ],
      "metadata": {
        "id": "i3es_bYdqd57"
      }
    },
    {
      "cell_type": "markdown",
      "source": [
        "i want to remove any URL. 1st word should be capital. No words in middle should be capital. remove all the punctuations."
      ],
      "metadata": {
        "id": "kQZmWadLh-0I"
      }
    },
    {
      "cell_type": "code",
      "source": [
        "paragraph = \"\"\"MachineLearning is GROWING rapidly!!! Check THIS out: https://ml-basics.example.com.\n",
        "in fields like finance,   HEALTHCare , & retail; it's being used   evrywhere..  models are trained     using    DATA -- lots of it!!!\n",
        "sometimes,the input--data  isn't even cleaned properly; BUT results are still good? maybe...  🤔\n",
        "ML's rise = unstoppable;   and that's Not an exaggeration!!!\n",
        "\"\"\"\n"
      ],
      "metadata": {
        "id": "FWFqWUD9ql9j"
      },
      "execution_count": null,
      "outputs": []
    },
    {
      "cell_type": "code",
      "source": [
        "paragraph"
      ],
      "metadata": {
        "colab": {
          "base_uri": "https://localhost:8080/",
          "height": 70
        },
        "id": "zxrcwLjMqm7d",
        "outputId": "eff40f3b-d33c-412c-d017-7df5397f967d"
      },
      "execution_count": null,
      "outputs": [
        {
          "output_type": "execute_result",
          "data": {
            "text/plain": [
              "\"MachineLearning is GROWING rapidly!!! Check THIS out: https://ml-basics.example.com.  \\nin fields like finance,   HEALTHCare , & retail; it's being used   evrywhere..  models are trained     using    DATA -- lots of it!!!  \\nsometimes,the input--data  isn't even cleaned properly; BUT results are still good? maybe...  🤔  \\nML's rise = unstoppable;   and that's Not an exaggeration!!!\\n\""
            ],
            "application/vnd.google.colaboratory.intrinsic+json": {
              "type": "string"
            }
          },
          "metadata": {},
          "execution_count": 20
        }
      ]
    },
    {
      "cell_type": "code",
      "source": [
        "para=paragraph"
      ],
      "metadata": {
        "id": "pnzk4BORqoTD"
      },
      "execution_count": null,
      "outputs": []
    },
    {
      "cell_type": "markdown",
      "source": [
        "Lower casing"
      ],
      "metadata": {
        "id": "Ux3YNcoUrA7L"
      }
    },
    {
      "cell_type": "code",
      "source": [
        "lower_paragraph = paragraph.lower()\n",
        "lower_paragraph\n"
      ],
      "metadata": {
        "colab": {
          "base_uri": "https://localhost:8080/",
          "height": 70
        },
        "id": "VMBRNDQZqwXT",
        "outputId": "00e4beb5-cd10-4961-b19a-624201734562"
      },
      "execution_count": null,
      "outputs": [
        {
          "output_type": "execute_result",
          "data": {
            "text/plain": [
              "\"machinelearning is growing rapidly!!! check this out: https://ml-basics.example.com.  \\nin fields like finance,   healthcare , & retail; it's being used   evrywhere..  models are trained     using    data -- lots of it!!!  \\nsometimes,the input--data  isn't even cleaned properly; but results are still good? maybe...  🤔  \\nml's rise = unstoppable;   and that's not an exaggeration!!!\\n\""
            ],
            "application/vnd.google.colaboratory.intrinsic+json": {
              "type": "string"
            }
          },
          "metadata": {},
          "execution_count": 23
        }
      ]
    },
    {
      "cell_type": "markdown",
      "source": [
        "Upper Casing"
      ],
      "metadata": {
        "id": "ccJ9aPiQrOPp"
      }
    },
    {
      "cell_type": "code",
      "source": [
        "upper_paragraph = paragraph.upper()\n",
        "upper_paragraph\n"
      ],
      "metadata": {
        "colab": {
          "base_uri": "https://localhost:8080/",
          "height": 70
        },
        "id": "Lj03trcAq-8M",
        "outputId": "71b79469-5749-4653-f1db-f5696685f40c"
      },
      "execution_count": null,
      "outputs": [
        {
          "output_type": "execute_result",
          "data": {
            "text/plain": [
              "\"MACHINELEARNING IS GROWING RAPIDLY!!! CHECK THIS OUT: HTTPS://ML-BASICS.EXAMPLE.COM.  \\nIN FIELDS LIKE FINANCE,   HEALTHCARE , & RETAIL; IT'S BEING USED   EVRYWHERE..  MODELS ARE TRAINED     USING    DATA -- LOTS OF IT!!!  \\nSOMETIMES,THE INPUT--DATA  ISN'T EVEN CLEANED PROPERLY; BUT RESULTS ARE STILL GOOD? MAYBE...  🤔  \\nML'S RISE = UNSTOPPABLE;   AND THAT'S NOT AN EXAGGERATION!!!\\n\""
            ],
            "application/vnd.google.colaboratory.intrinsic+json": {
              "type": "string"
            }
          },
          "metadata": {},
          "execution_count": 24
        }
      ]
    },
    {
      "cell_type": "markdown",
      "source": [
        "Capitalize"
      ],
      "metadata": {
        "id": "jYhQp3O3rU9y"
      }
    },
    {
      "cell_type": "code",
      "source": [
        "capitalized_paragraph = paragraph.capitalize()\n",
        "capitalized_paragraph\n"
      ],
      "metadata": {
        "colab": {
          "base_uri": "https://localhost:8080/",
          "height": 70
        },
        "id": "IC7oZg57rTmq",
        "outputId": "3e73abe1-f0c4-4e85-ff08-a7996728b9d4"
      },
      "execution_count": null,
      "outputs": [
        {
          "output_type": "execute_result",
          "data": {
            "text/plain": [
              "\"Machinelearning is growing rapidly!!! check this out: https://ml-basics.example.com.  \\nin fields like finance,   healthcare , & retail; it's being used   evrywhere..  models are trained     using    data -- lots of it!!!  \\nsometimes,the input--data  isn't even cleaned properly; but results are still good? maybe...  🤔  \\nml's rise = unstoppable;   and that's not an exaggeration!!!\\n\""
            ],
            "application/vnd.google.colaboratory.intrinsic+json": {
              "type": "string"
            }
          },
          "metadata": {},
          "execution_count": 52
        }
      ]
    },
    {
      "cell_type": "code",
      "source": [],
      "metadata": {
        "id": "NfL8osy-ranz"
      },
      "execution_count": null,
      "outputs": []
    },
    {
      "cell_type": "markdown",
      "source": [
        "# Replace string"
      ],
      "metadata": {
        "id": "p4X0BbaesjQp"
      }
    },
    {
      "cell_type": "code",
      "source": [
        "paragraph"
      ],
      "metadata": {
        "colab": {
          "base_uri": "https://localhost:8080/",
          "height": 70
        },
        "id": "7NG_BCOHjcqj",
        "outputId": "ac6a13ed-33a6-47b3-91ea-57f405f0bd59"
      },
      "execution_count": null,
      "outputs": [
        {
          "output_type": "execute_result",
          "data": {
            "text/plain": [
              "\"MachineLearning is GROWING rapidly!!! Check THIS out: https://ml-basics.example.com.  \\nin fields like finance,   HEALTHCare , & retail; it's being used   evrywhere..  models are trained     using    DATA -- lots of it!!!  \\nsometimes,the input--data  isn't even cleaned properly; BUT results are still good? maybe...  🤔  \\nML's rise = unstoppable;   and that's Not an exaggeration!!!\\n\""
            ],
            "application/vnd.google.colaboratory.intrinsic+json": {
              "type": "string"
            }
          },
          "metadata": {},
          "execution_count": 53
        }
      ]
    },
    {
      "cell_type": "code",
      "source": [
        "capitalized_paragraph=capitalized_paragraph.replace('healthcare', 'education')"
      ],
      "metadata": {
        "id": "zidfnfuxsnDj"
      },
      "execution_count": null,
      "outputs": []
    },
    {
      "cell_type": "code",
      "source": [
        "capitalized_paragraph"
      ],
      "metadata": {
        "colab": {
          "base_uri": "https://localhost:8080/",
          "height": 70
        },
        "id": "ODPiQU-utAIV",
        "outputId": "55fe4977-4e68-4963-d735-72a01b62a4e4"
      },
      "execution_count": null,
      "outputs": [
        {
          "output_type": "execute_result",
          "data": {
            "text/plain": [
              "\"Machinelearning is growing rapidly!!! check this out: https://ml-basics.example.com.  \\nin fields like finance,   education , & retail; it's being used   evrywhere..  models are trained     using    data -- lots of it!!!  \\nsometimes,the input--data  isn't even cleaned properly; but results are still good? maybe...  🤔  \\nml's rise = unstoppable;   and that's not an exaggeration!!!\\n\""
            ],
            "application/vnd.google.colaboratory.intrinsic+json": {
              "type": "string"
            }
          },
          "metadata": {},
          "execution_count": 55
        }
      ]
    },
    {
      "cell_type": "code",
      "source": [
        "capitalized_paragraph=capitalized_paragraph.replace('\\n', ' ').replace('\\t', ' ')"
      ],
      "metadata": {
        "id": "DYKMNCBqtCjM"
      },
      "execution_count": null,
      "outputs": []
    },
    {
      "cell_type": "code",
      "source": [
        "capitalized_paragraph"
      ],
      "metadata": {
        "colab": {
          "base_uri": "https://localhost:8080/",
          "height": 70
        },
        "id": "pGrn5VoYtXpD",
        "outputId": "b16c2662-1882-4195-dc21-5ae5e50949ad"
      },
      "execution_count": null,
      "outputs": [
        {
          "output_type": "execute_result",
          "data": {
            "text/plain": [
              "\"Machinelearning is growing rapidly!!! check this out: https://ml-basics.example.com.   in fields like finance,   education , & retail; it's being used   evrywhere..  models are trained     using    data -- lots of it!!!   sometimes,the input--data  isn't even cleaned properly; but results are still good? maybe...  🤔   ml's rise = unstoppable;   and that's not an exaggeration!!! \""
            ],
            "application/vnd.google.colaboratory.intrinsic+json": {
              "type": "string"
            }
          },
          "metadata": {},
          "execution_count": 29
        }
      ]
    },
    {
      "cell_type": "code",
      "source": [],
      "metadata": {
        "id": "fnpdXvrqtZCL"
      },
      "execution_count": null,
      "outputs": []
    },
    {
      "cell_type": "markdown",
      "source": [
        "# Regular Expressions (re)"
      ],
      "metadata": {
        "id": "GSxifiCTvscy"
      }
    },
    {
      "cell_type": "markdown",
      "source": [
        ". is used to give previous character"
      ],
      "metadata": {
        "id": "jpjoDUqrwloj"
      }
    },
    {
      "cell_type": "code",
      "source": [
        "import re\n",
        "\n",
        "text = \"apple is present\"\n",
        "pattern = r\".le\"\n",
        "\n",
        "match = re.search(pattern, text)\n",
        "if match:\n",
        "    print(\"Match found:\", match.group())  # Output: apple\n",
        "else:\n",
        "    print(\"No match\")"
      ],
      "metadata": {
        "colab": {
          "base_uri": "https://localhost:8080/"
        },
        "id": "0nTI40qov2jq",
        "outputId": "da75ca5d-8560-4b12-c487-4330aa5a0877"
      },
      "execution_count": null,
      "outputs": [
        {
          "output_type": "stream",
          "name": "stdout",
          "text": [
            "Match found: ple\n"
          ]
        }
      ]
    },
    {
      "cell_type": "markdown",
      "source": [
        "\\b: Word boundary, ensures we're matching whole words.\n",
        "\n",
        "\\w+: Matches one or more word characters (letters, digits, or underscores).\n",
        "\n",
        "ing: The word must end with ing."
      ],
      "metadata": {
        "id": "n_KnqwiOxv3K"
      }
    },
    {
      "cell_type": "code",
      "source": [
        "import re\n",
        "\n",
        "text = \"Training is a step in Machine learning.\"\n",
        "pattern = r\"\\b\\w+ing\\b\"  # This will match any word ending with 'ing'\n",
        "\n",
        "matches = re.findall(pattern, text)\n",
        "print(\"Matches:\", matches)  # Output: ['Training', 'learning']\n"
      ],
      "metadata": {
        "colab": {
          "base_uri": "https://localhost:8080/"
        },
        "id": "QaVGpVRvv9HT",
        "outputId": "6ebc40b9-4092-4173-c69a-9483215e6f1c"
      },
      "execution_count": null,
      "outputs": [
        {
          "output_type": "stream",
          "name": "stdout",
          "text": [
            "Matches: ['Training', 'learning']\n"
          ]
        }
      ]
    },
    {
      "cell_type": "code",
      "source": [
        "capitalized_paragraph"
      ],
      "metadata": {
        "colab": {
          "base_uri": "https://localhost:8080/",
          "height": 70
        },
        "id": "5gISwhwmwy61",
        "outputId": "6a2a33d3-017c-4397-8820-0a9e1e38d2f6"
      },
      "execution_count": null,
      "outputs": [
        {
          "output_type": "execute_result",
          "data": {
            "text/plain": [
              "\"Machinelearning is growing rapidly!!! check this out: https://ml-basics.example.com.  \\nin fields like finance,   education , & retail; it's being used   evrywhere..  models are trained     using    data -- lots of it!!!  \\nsometimes,the input--data  isn't even cleaned properly; but results are still good? maybe...  🤔  \\nml's rise = unstoppable;   and that's not an exaggeration!!!\\n\""
            ],
            "application/vnd.google.colaboratory.intrinsic+json": {
              "type": "string"
            }
          },
          "metadata": {},
          "execution_count": 58
        }
      ]
    },
    {
      "cell_type": "markdown",
      "source": [
        "http:\n",
        "\n",
        "This part of the pattern matches the literal string \"http\" in the URL.\n",
        "\n",
        "[s]?:\n",
        "\n",
        "The square brackets [] are used to specify a character class. Here, it includes the letter s.\n",
        "\n",
        "The ? after [s] means that s is optional. This makes the pattern match both http:// and https://.\n",
        "\n",
        "In other words, it allows the pattern to match both http and https URLs.\n",
        "\n",
        "://:\n",
        "\n",
        "This matches the literal string :// in the URL (part of the protocol in URLs like http:// or https://).\n",
        "\n",
        "\\S+:\n",
        "\n",
        "\\S is a shorthand for non-whitespace characters. It matches any character that is not a space, tab, or newline.\n",
        "\n",
        "The + indicates that one or more non-whitespace characters will be matched. This part of the pattern will match the entire URL (domain, path, etc.) after the http:// or https:// part."
      ],
      "metadata": {
        "id": "cLKzigW9yR0S"
      }
    },
    {
      "cell_type": "code",
      "source": [
        "re.sub(r'http[s]?://\\S+', '', capitalized_paragraph)"
      ],
      "metadata": {
        "colab": {
          "base_uri": "https://localhost:8080/",
          "height": 70
        },
        "id": "iSWyJzlaxKPT",
        "outputId": "6d6dbeaa-7683-42a4-f891-5ae7ae2c565f"
      },
      "execution_count": null,
      "outputs": [
        {
          "output_type": "execute_result",
          "data": {
            "text/plain": [
              "\"Machinelearning is growing rapidly!!! check this out:   \\nin fields like finance,   education , & retail; it's being used   evrywhere..  models are trained     using    data -- lots of it!!!  \\nsometimes,the input--data  isn't even cleaned properly; but results are still good? maybe...  🤔  \\nml's rise = unstoppable;   and that's not an exaggeration!!!\\n\""
            ],
            "application/vnd.google.colaboratory.intrinsic+json": {
              "type": "string"
            }
          },
          "metadata": {},
          "execution_count": 59
        }
      ]
    },
    {
      "cell_type": "code",
      "source": [
        "capitalized_paragraph=re.sub(r'http[s]?://\\S+', '', capitalized_paragraph)"
      ],
      "metadata": {
        "id": "Gv9A0wQ-x-5E"
      },
      "execution_count": null,
      "outputs": []
    },
    {
      "cell_type": "code",
      "source": [
        "capitalized_paragraph"
      ],
      "metadata": {
        "colab": {
          "base_uri": "https://localhost:8080/",
          "height": 70
        },
        "id": "_tEh4owIylsz",
        "outputId": "d669f59e-529a-4311-f5cf-36f53c933d1d"
      },
      "execution_count": null,
      "outputs": [
        {
          "output_type": "execute_result",
          "data": {
            "text/plain": [
              "\"Machinelearning is growing rapidly!!! check this out:   \\nin fields like finance,   education , & retail; it's being used   evrywhere..  models are trained     using    data -- lots of it!!!  \\nsometimes,the input--data  isn't even cleaned properly; but results are still good? maybe...  🤔  \\nml's rise = unstoppable;   and that's not an exaggeration!!!\\n\""
            ],
            "application/vnd.google.colaboratory.intrinsic+json": {
              "type": "string"
            }
          },
          "metadata": {},
          "execution_count": 61
        }
      ]
    },
    {
      "cell_type": "code",
      "source": [],
      "metadata": {
        "id": "_GnTnEEOynaj"
      },
      "execution_count": null,
      "outputs": []
    },
    {
      "cell_type": "markdown",
      "source": [
        "# Remove punctuation"
      ],
      "metadata": {
        "id": "G-rDgVCvzcP9"
      }
    },
    {
      "cell_type": "code",
      "source": [
        "re.sub(r'[^\\w\\s]', '', capitalized_paragraph)"
      ],
      "metadata": {
        "colab": {
          "base_uri": "https://localhost:8080/",
          "height": 52
        },
        "id": "ZuHor2Jcze-b",
        "outputId": "d4b62b28-eff1-469b-f80a-e30c9fd5c5b2"
      },
      "execution_count": null,
      "outputs": [
        {
          "output_type": "execute_result",
          "data": {
            "text/plain": [
              "'Machinelearning is growing rapidly check this out   \\nin fields like finance   education   retail its being used   evrywhere  models are trained     using    data  lots of it  \\nsometimesthe inputdata  isnt even cleaned properly but results are still good maybe    \\nmls rise  unstoppable   and thats not an exaggeration\\n'"
            ],
            "application/vnd.google.colaboratory.intrinsic+json": {
              "type": "string"
            }
          },
          "metadata": {},
          "execution_count": 62
        }
      ]
    },
    {
      "cell_type": "code",
      "source": [
        "capitalized_paragraph=re.sub(r'[^\\w\\s]', '', capitalized_paragraph)"
      ],
      "metadata": {
        "id": "4Ydywvspzhix"
      },
      "execution_count": null,
      "outputs": []
    },
    {
      "cell_type": "code",
      "source": [
        "capitalized_paragraph"
      ],
      "metadata": {
        "colab": {
          "base_uri": "https://localhost:8080/",
          "height": 52
        },
        "id": "NTeeXterzmMr",
        "outputId": "b4e36b52-0741-4f37-b336-e7580e16fa8d"
      },
      "execution_count": null,
      "outputs": [
        {
          "output_type": "execute_result",
          "data": {
            "text/plain": [
              "'Machinelearning is growing rapidly check this out   \\nin fields like finance   education   retail its being used   evrywhere  models are trained     using    data  lots of it  \\nsometimesthe inputdata  isnt even cleaned properly but results are still good maybe    \\nmls rise  unstoppable   and thats not an exaggeration\\n'"
            ],
            "application/vnd.google.colaboratory.intrinsic+json": {
              "type": "string"
            }
          },
          "metadata": {},
          "execution_count": 64
        }
      ]
    },
    {
      "cell_type": "markdown",
      "source": [
        "white spaces removal"
      ],
      "metadata": {
        "id": "VCGOr7l-nU5J"
      }
    },
    {
      "cell_type": "markdown",
      "source": [
        "# Split"
      ],
      "metadata": {
        "id": "9UX-XqbO0DdC"
      }
    },
    {
      "cell_type": "code",
      "source": [
        "text=capitalized_paragraph.split('  ')"
      ],
      "metadata": {
        "id": "27NLYroYznXk"
      },
      "execution_count": null,
      "outputs": []
    },
    {
      "cell_type": "code",
      "source": [
        "text"
      ],
      "metadata": {
        "colab": {
          "base_uri": "https://localhost:8080/"
        },
        "id": "z8rLw2oy1bSa",
        "outputId": "2d51c193-72b8-412c-a2d5-f9a41a1bcf87"
      },
      "execution_count": null,
      "outputs": [
        {
          "output_type": "execute_result",
          "data": {
            "text/plain": [
              "['Machinelearning is growing rapidly check this out',\n",
              " '',\n",
              " 'in fields like finance',\n",
              " ' education',\n",
              " ' retail its being used',\n",
              " ' evrywhere',\n",
              " 'models are trained',\n",
              " '',\n",
              " ' using',\n",
              " '',\n",
              " 'data',\n",
              " 'lots of it',\n",
              " ' sometimesthe inputdata',\n",
              " 'isnt even cleaned properly but results are still good maybe',\n",
              " '',\n",
              " ' mls rise',\n",
              " 'unstoppable',\n",
              " ' and thats not an exaggeration ']"
            ]
          },
          "metadata": {},
          "execution_count": 150
        }
      ]
    },
    {
      "cell_type": "markdown",
      "source": [
        "# Join"
      ],
      "metadata": {
        "id": "1LsvLF0I0P3z"
      }
    },
    {
      "cell_type": "code",
      "source": [
        "''.join(capitalized_paragraph.split('  '))"
      ],
      "metadata": {
        "colab": {
          "base_uri": "https://localhost:8080/",
          "height": 52
        },
        "id": "VAzbwQzk0BM7",
        "outputId": "e03bc0b1-ffa9-4db0-b9ff-b29134d1a869"
      },
      "execution_count": null,
      "outputs": [
        {
          "output_type": "execute_result",
          "data": {
            "text/plain": [
              "'Machinelearning is growing rapidly check this outin fields like finance education retail its being used evrywheremodels are trained usingdatalots of it sometimesthe inputdataisnt even cleaned properly but results are still good maybe mls riseunstoppable and thats not an exaggeration '"
            ],
            "application/vnd.google.colaboratory.intrinsic+json": {
              "type": "string"
            }
          },
          "metadata": {},
          "execution_count": 151
        }
      ]
    },
    {
      "cell_type": "code",
      "source": [],
      "metadata": {
        "id": "3s2Zvzl60fAc"
      },
      "execution_count": null,
      "outputs": []
    },
    {
      "cell_type": "code",
      "source": [
        "text = \"Machine learning is growing fast. It is used in healthcare. Models learn from data.\"\n",
        "\n",
        "\n"
      ],
      "metadata": {
        "id": "FWEbxKAu0gUD"
      },
      "execution_count": null,
      "outputs": []
    },
    {
      "cell_type": "code",
      "source": [
        "sentences = text.split(\".\")"
      ],
      "metadata": {
        "id": "S_yy52dV44E2"
      },
      "execution_count": null,
      "outputs": []
    },
    {
      "cell_type": "code",
      "source": [
        "sentences"
      ],
      "metadata": {
        "colab": {
          "base_uri": "https://localhost:8080/"
        },
        "id": "Cn8Pw7OZ46OM",
        "outputId": "1c69a5bc-877e-4e30-bac0-c721be944989"
      },
      "execution_count": null,
      "outputs": [
        {
          "output_type": "execute_result",
          "data": {
            "text/plain": [
              "['Machine learning is growing fast',\n",
              " ' It is used in healthcare',\n",
              " ' Models learn from data',\n",
              " '']"
            ]
          },
          "metadata": {},
          "execution_count": 36
        }
      ]
    },
    {
      "cell_type": "code",
      "source": [
        "sentences[0]"
      ],
      "metadata": {
        "colab": {
          "base_uri": "https://localhost:8080/",
          "height": 35
        },
        "id": "sQbdm9hM4uJD",
        "outputId": "9c2a3da2-8587-42de-947a-b6a33b30e669"
      },
      "execution_count": null,
      "outputs": [
        {
          "output_type": "execute_result",
          "data": {
            "text/plain": [
              "'Machine learning is growing fast'"
            ],
            "application/vnd.google.colaboratory.intrinsic+json": {
              "type": "string"
            }
          },
          "metadata": {},
          "execution_count": 156
        }
      ]
    },
    {
      "cell_type": "code",
      "source": [
        "len(sentences[0])"
      ],
      "metadata": {
        "colab": {
          "base_uri": "https://localhost:8080/"
        },
        "id": "_vsFjGz25JDk",
        "outputId": "65307344-d09f-45f2-9e92-5d6f0c576467"
      },
      "execution_count": null,
      "outputs": [
        {
          "output_type": "execute_result",
          "data": {
            "text/plain": [
              "32"
            ]
          },
          "metadata": {},
          "execution_count": 157
        }
      ]
    },
    {
      "cell_type": "code",
      "source": [
        "len(sentences[3])"
      ],
      "metadata": {
        "colab": {
          "base_uri": "https://localhost:8080/"
        },
        "id": "Q6POvpPy5Neq",
        "outputId": "d2d53d44-5a95-4917-cf77-8745d5fbbf1f"
      },
      "execution_count": null,
      "outputs": [
        {
          "output_type": "execute_result",
          "data": {
            "text/plain": [
              "0"
            ]
          },
          "metadata": {},
          "execution_count": 160
        }
      ]
    },
    {
      "cell_type": "code",
      "source": [
        "text=\"Machine learning is growing fast\""
      ],
      "metadata": {
        "id": "szgAZQTF6Emj"
      },
      "execution_count": null,
      "outputs": []
    },
    {
      "cell_type": "code",
      "source": [
        "len(text)"
      ],
      "metadata": {
        "colab": {
          "base_uri": "https://localhost:8080/"
        },
        "id": "PVo2cWSO5RRz",
        "outputId": "6b104823-6b77-4343-d7bf-a72df8aa17a5"
      },
      "execution_count": null,
      "outputs": [
        {
          "output_type": "execute_result",
          "data": {
            "text/plain": [
              "32"
            ]
          },
          "metadata": {},
          "execution_count": 66
        }
      ]
    },
    {
      "cell_type": "markdown",
      "source": [
        "# Slicing of strings"
      ],
      "metadata": {
        "id": "hKZg5Xf66kcL"
      }
    },
    {
      "cell_type": "code",
      "source": [
        "text[:12]"
      ],
      "metadata": {
        "colab": {
          "base_uri": "https://localhost:8080/",
          "height": 35
        },
        "id": "nsxBVXnr52i7",
        "outputId": "a290ac7b-09c4-4a79-8c94-ba8da25355cd"
      },
      "execution_count": null,
      "outputs": [
        {
          "output_type": "execute_result",
          "data": {
            "text/plain": [
              "'Machine lear'"
            ],
            "application/vnd.google.colaboratory.intrinsic+json": {
              "type": "string"
            }
          },
          "metadata": {},
          "execution_count": 67
        }
      ]
    },
    {
      "cell_type": "code",
      "source": [
        "text[:-12]"
      ],
      "metadata": {
        "colab": {
          "base_uri": "https://localhost:8080/",
          "height": 35
        },
        "id": "LWY6pbLe6LYz",
        "outputId": "e51c646f-b2a1-4f94-fceb-367faf7dc1b3"
      },
      "execution_count": null,
      "outputs": [
        {
          "output_type": "execute_result",
          "data": {
            "text/plain": [
              "'Machine learning is '"
            ],
            "application/vnd.google.colaboratory.intrinsic+json": {
              "type": "string"
            }
          },
          "metadata": {},
          "execution_count": 68
        }
      ]
    },
    {
      "cell_type": "code",
      "source": [
        "text[-12]"
      ],
      "metadata": {
        "colab": {
          "base_uri": "https://localhost:8080/",
          "height": 35
        },
        "id": "fR710aUQ6Rg7",
        "outputId": "ac4b7ba0-f0aa-4484-d21f-7f3451c7dc1d"
      },
      "execution_count": null,
      "outputs": [
        {
          "output_type": "execute_result",
          "data": {
            "text/plain": [
              "'g'"
            ],
            "application/vnd.google.colaboratory.intrinsic+json": {
              "type": "string"
            }
          },
          "metadata": {},
          "execution_count": 169
        }
      ]
    },
    {
      "cell_type": "code",
      "source": [
        "text[-12:]"
      ],
      "metadata": {
        "colab": {
          "base_uri": "https://localhost:8080/",
          "height": 35
        },
        "id": "KB7jLvwn6eGb",
        "outputId": "3226c98c-519d-4574-a621-7308c7598931"
      },
      "execution_count": null,
      "outputs": [
        {
          "output_type": "execute_result",
          "data": {
            "text/plain": [
              "'growing fast'"
            ],
            "application/vnd.google.colaboratory.intrinsic+json": {
              "type": "string"
            }
          },
          "metadata": {},
          "execution_count": 170
        }
      ]
    },
    {
      "cell_type": "code",
      "source": [
        "string1=\"my name is deepak\""
      ],
      "metadata": {
        "id": "A9N6V5Zg6hFE"
      },
      "execution_count": null,
      "outputs": []
    },
    {
      "cell_type": "code",
      "source": [
        "string1"
      ],
      "metadata": {
        "colab": {
          "base_uri": "https://localhost:8080/",
          "height": 35
        },
        "id": "VV8Y98yipZna",
        "outputId": "c92dc5d7-dad0-42c1-e1e6-f29a62765c7c"
      },
      "execution_count": null,
      "outputs": [
        {
          "output_type": "execute_result",
          "data": {
            "text/plain": [
              "'my name is deepak'"
            ],
            "application/vnd.google.colaboratory.intrinsic+json": {
              "type": "string"
            }
          },
          "metadata": {},
          "execution_count": 70
        }
      ]
    },
    {
      "cell_type": "code",
      "source": [
        "input_str=string1[:11]"
      ],
      "metadata": {
        "id": "15XHBBKTpdsa"
      },
      "execution_count": null,
      "outputs": []
    },
    {
      "cell_type": "markdown",
      "source": [
        "String Concatination"
      ],
      "metadata": {
        "id": "t9szZbckp0ba"
      }
    },
    {
      "cell_type": "code",
      "source": [
        "input_str"
      ],
      "metadata": {
        "colab": {
          "base_uri": "https://localhost:8080/",
          "height": 35
        },
        "id": "wBdUhfGDpqsx",
        "outputId": "61e9dd54-1198-4b34-e494-8d7224a1862a"
      },
      "execution_count": null,
      "outputs": [
        {
          "output_type": "execute_result",
          "data": {
            "text/plain": [
              "'my name is '"
            ],
            "application/vnd.google.colaboratory.intrinsic+json": {
              "type": "string"
            }
          },
          "metadata": {},
          "execution_count": 72
        }
      ]
    },
    {
      "cell_type": "code",
      "source": [
        "input_str=input_str+\"Deepak\""
      ],
      "metadata": {
        "id": "r_5j_JjKpr4R"
      },
      "execution_count": null,
      "outputs": []
    },
    {
      "cell_type": "code",
      "source": [
        "input_str"
      ],
      "metadata": {
        "colab": {
          "base_uri": "https://localhost:8080/",
          "height": 35
        },
        "id": "u2GfgHm4p8jK",
        "outputId": "60994258-a89d-4b02-fdc8-37a592851432"
      },
      "execution_count": null,
      "outputs": [
        {
          "output_type": "execute_result",
          "data": {
            "text/plain": [
              "'my name is Deepak'"
            ],
            "application/vnd.google.colaboratory.intrinsic+json": {
              "type": "string"
            }
          },
          "metadata": {},
          "execution_count": 74
        }
      ]
    },
    {
      "cell_type": "code",
      "source": [
        "len(input_str)"
      ],
      "metadata": {
        "colab": {
          "base_uri": "https://localhost:8080/"
        },
        "id": "CxVAeonpqCxp",
        "outputId": "8b63dd59-6f47-4259-87fa-42d98177169a"
      },
      "execution_count": null,
      "outputs": [
        {
          "output_type": "execute_result",
          "data": {
            "text/plain": [
              "17"
            ]
          },
          "metadata": {},
          "execution_count": 45
        }
      ]
    },
    {
      "cell_type": "code",
      "source": [
        "input_str.split(\" \")"
      ],
      "metadata": {
        "colab": {
          "base_uri": "https://localhost:8080/"
        },
        "id": "oW42Ha1h8B1f",
        "outputId": "02557359-d956-430e-eaac-d46aee30b5e2"
      },
      "execution_count": null,
      "outputs": [
        {
          "output_type": "execute_result",
          "data": {
            "text/plain": [
              "['my', 'name', 'is', 'Deepak']"
            ]
          },
          "metadata": {},
          "execution_count": 75
        }
      ]
    },
    {
      "cell_type": "code",
      "source": [
        "len(input_str.split(\" \"))"
      ],
      "metadata": {
        "colab": {
          "base_uri": "https://localhost:8080/"
        },
        "id": "eoLWcPtOqV4a",
        "outputId": "e7107f30-5527-4dae-bbc1-604b00a4b01d"
      },
      "execution_count": null,
      "outputs": [
        {
          "output_type": "execute_result",
          "data": {
            "text/plain": [
              "4"
            ]
          },
          "metadata": {},
          "execution_count": 76
        }
      ]
    },
    {
      "cell_type": "markdown",
      "source": [
        "# 📝 Assignment Tasks:\n",
        "Task 1: Split Sentences Using split()\n",
        "\n",
        "Task 2: Join Sentences\n",
        "\n",
        "Task 3: Capitalize Sentences\n",
        "\n",
        "Task 4: Remove the Word 'datapro' and Replace with your Name.\n",
        "\n",
        "Task 5: Remove URLs Using re\n",
        "\n",
        "Task 6: Remove All Punctuation"
      ],
      "metadata": {
        "id": "A2dAQWGG6xsj"
      }
    },
    {
      "cell_type": "code",
      "source": [
        "paragraph = \"\"\"Generative AI is changing the way content is created! from images to text, it can produce outputs that seem human-made. datapro is offering hands-on training to help you get started. check out this link: https://datapro-ai.example.com  . many industries are adopting generative ai, and datapro wants you to lead the change!!!\"\"\"\n"
      ],
      "metadata": {
        "id": "RSP6ssKo_5_r"
      },
      "execution_count": null,
      "outputs": []
    },
    {
      "cell_type": "code",
      "source": [
        "paragraph"
      ],
      "metadata": {
        "colab": {
          "base_uri": "https://localhost:8080/",
          "height": 52
        },
        "id": "8U7J40WD_7x7",
        "outputId": "02f96d95-a965-4a03-d92f-cd8b8b4d891d"
      },
      "execution_count": null,
      "outputs": [
        {
          "output_type": "execute_result",
          "data": {
            "text/plain": [
              "'Generative AI is changing the way content is created! from images to text, it can produce outputs that seem human-made. datapro is offering hands-on training to help you get started. check out this link: https://datapro-ai.example.com  . many industries are adopting generative ai, and datapro wants you to lead the change!!!'"
            ],
            "application/vnd.google.colaboratory.intrinsic+json": {
              "type": "string"
            }
          },
          "metadata": {},
          "execution_count": 172
        }
      ]
    },
    {
      "cell_type": "markdown",
      "source": [
        "Write the code and submit in whatsapp group using your roll number and Name"
      ],
      "metadata": {
        "id": "lpjboMTH__4t"
      }
    },
    {
      "cell_type": "code",
      "source": [],
      "metadata": {
        "id": "19ROJjv2_9Tr"
      },
      "execution_count": null,
      "outputs": []
    }
  ]
}